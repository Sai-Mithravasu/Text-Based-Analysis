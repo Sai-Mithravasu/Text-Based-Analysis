{
 "cells": [
  {
   "cell_type": "markdown",
   "id": "dcb5f5ef",
   "metadata": {},
   "source": [
    "# Import Pandas and Load the Data "
   ]
  },
  {
   "cell_type": "code",
   "execution_count": 1,
   "id": "6d402135",
   "metadata": {},
   "outputs": [
    {
     "name": "stderr",
     "output_type": "stream",
     "text": [
      "C:\\Users\\saimi\\anaconda3\\Lib\\site-packages\\pandas\\core\\arrays\\masked.py:60: UserWarning: Pandas requires version '1.3.6' or newer of 'bottleneck' (version '1.3.5' currently installed).\n",
      "  from pandas.core import (\n"
     ]
    },
    {
     "data": {
      "text/html": [
       "<div>\n",
       "<style scoped>\n",
       "    .dataframe tbody tr th:only-of-type {\n",
       "        vertical-align: middle;\n",
       "    }\n",
       "\n",
       "    .dataframe tbody tr th {\n",
       "        vertical-align: top;\n",
       "    }\n",
       "\n",
       "    .dataframe thead th {\n",
       "        text-align: right;\n",
       "    }\n",
       "</style>\n",
       "<table border=\"1\" class=\"dataframe\">\n",
       "  <thead>\n",
       "    <tr style=\"text-align: right;\">\n",
       "      <th></th>\n",
       "      <th>review</th>\n",
       "      <th>sentiment</th>\n",
       "    </tr>\n",
       "  </thead>\n",
       "  <tbody>\n",
       "    <tr>\n",
       "      <th>0</th>\n",
       "      <td>One of the other reviewers has mentioned that ...</td>\n",
       "      <td>positive</td>\n",
       "    </tr>\n",
       "    <tr>\n",
       "      <th>1</th>\n",
       "      <td>A wonderful little production. &lt;br /&gt;&lt;br /&gt;The...</td>\n",
       "      <td>positive</td>\n",
       "    </tr>\n",
       "    <tr>\n",
       "      <th>2</th>\n",
       "      <td>I thought this was a wonderful way to spend ti...</td>\n",
       "      <td>positive</td>\n",
       "    </tr>\n",
       "    <tr>\n",
       "      <th>3</th>\n",
       "      <td>Basically there's a family where a little boy ...</td>\n",
       "      <td>negative</td>\n",
       "    </tr>\n",
       "    <tr>\n",
       "      <th>4</th>\n",
       "      <td>Petter Mattei's \"Love in the Time of Money\" is...</td>\n",
       "      <td>positive</td>\n",
       "    </tr>\n",
       "  </tbody>\n",
       "</table>\n",
       "</div>"
      ],
      "text/plain": [
       "                                              review sentiment\n",
       "0  One of the other reviewers has mentioned that ...  positive\n",
       "1  A wonderful little production. <br /><br />The...  positive\n",
       "2  I thought this was a wonderful way to spend ti...  positive\n",
       "3  Basically there's a family where a little boy ...  negative\n",
       "4  Petter Mattei's \"Love in the Time of Money\" is...  positive"
      ]
     },
     "execution_count": 1,
     "metadata": {},
     "output_type": "execute_result"
    }
   ],
   "source": [
    "# Importing modules\n",
    "import pandas as pd# Read data into df\n",
    "df = pd.read_csv(\"C:/Users/saimi/Downloads/IMDB Dataset.csv (1)/IMDB Dataset.csv\") # eclipse_jdk.csv\n",
    "df.head()"
   ]
  },
  {
   "cell_type": "markdown",
   "id": "9099cdca",
   "metadata": {},
   "source": [
    "# Clean the data using regex"
   ]
  },
  {
   "cell_type": "code",
   "execution_count": 2,
   "id": "d0b79e54",
   "metadata": {},
   "outputs": [],
   "source": [
    "import html\n",
    "import re\n",
    "def clean(text):# convert html escapes like & to characters.\n",
    "    text = html.unescape(text)# tags like\n",
    "    text = re.sub(r'<[^<>]*>', ' ', text)# markdown URLs like [Some text](https://....)\n",
    "    text = re.sub(r'\\[([^\\[\\]]*)\\]\\([^\\(\\)]*\\)', r'\\1', text)# text or code in brackets like [0]\n",
    "    text = re.sub(r'\\[[^\\[\\]]*\\]', ' ', text)# standalone sequences of specials, matches but not #cool\n",
    "    text = re.sub(r'(?:^|\\s)[<>{}\\[\\]+|\\\\:-]{1,}(?:\\s|$)', ' ', text)# standalone sequences of hyphens like --- or ==\n",
    "    text = re.sub(r'(?:^|\\s)[\\-=\\+]{2,}(?:\\s|$)', ' ', text)# sequences of white spaces\n",
    "    text = re.sub(r'\\s+', ' ', text)\n",
    "    return text.strip()"
   ]
  },
  {
   "cell_type": "markdown",
   "id": "d76c1fa8",
   "metadata": {},
   "source": [
    "# Data Cleaning"
   ]
  },
  {
   "cell_type": "code",
   "execution_count": 3,
   "id": "668fecf0",
   "metadata": {},
   "outputs": [
    {
     "name": "stdout",
     "output_type": "stream",
     "text": [
      "<class 'pandas.core.frame.DataFrame'>\n",
      "RangeIndex: 50000 entries, 0 to 49999\n",
      "Data columns (total 3 columns):\n",
      " #   Column        Non-Null Count  Dtype \n",
      "---  ------        --------------  ----- \n",
      " 0   review        50000 non-null  object\n",
      " 1   sentiment     50000 non-null  object\n",
      " 2   cleaned_text  50000 non-null  object\n",
      "dtypes: object(3)\n",
      "memory usage: 1.1+ MB\n"
     ]
    }
   ],
   "source": [
    "df['cleaned_text'] = df['review'].apply(clean)\n",
    "df.info()\n"
   ]
  },
  {
   "cell_type": "markdown",
   "id": "f57f9b7e",
   "metadata": {},
   "source": [
    "# Train Test Split "
   ]
  },
  {
   "cell_type": "code",
   "execution_count": 4,
   "id": "1737ed86",
   "metadata": {},
   "outputs": [],
   "source": [
    "from sklearn.model_selection import train_test_split\n",
    "\n",
    "# Assuming you've added a 'sentiment' column after processing for sentiment analysis\n",
    "X_train, X_test, Y_train, Y_test = train_test_split(df['cleaned_text'], df['sentiment'], test_size=0.2, random_state=42, stratify=df['sentiment'])\n"
   ]
  },
  {
   "cell_type": "code",
   "execution_count": 5,
   "id": "f41d09d6",
   "metadata": {},
   "outputs": [
    {
     "name": "stdout",
     "output_type": "stream",
     "text": [
      "Size of Training Data  40000\n",
      "Size of Test Data  10000\n"
     ]
    }
   ],
   "source": [
    "print('Size of Training Data ', X_train.shape[0])\n",
    "print('Size of Test Data ', X_test.shape[0])"
   ]
  },
  {
   "cell_type": "markdown",
   "id": "bd879f18",
   "metadata": {},
   "source": [
    "# Taining the Model using SVM"
   ]
  },
  {
   "cell_type": "code",
   "execution_count": 6,
   "id": "7f34e0ba",
   "metadata": {},
   "outputs": [],
   "source": [
    "# Convert X Train to numbers\n",
    "from sklearn.feature_extraction.text import TfidfVectorizer\n",
    "from sklearn.svm import SVC\n",
    "tfidf = TfidfVectorizer(min_df = 10, ngram_range=(1,2),stop_words=\"english\")\n",
    "X_train_tf = tfidf.fit_transform(X_train)\n",
    "X_test_tf = tfidf.transform(X_test)"
   ]
  },
  {
   "cell_type": "markdown",
   "id": "fb291742",
   "metadata": {},
   "source": [
    "# Building the model"
   ]
  },
  {
   "cell_type": "code",
   "execution_count": 7,
   "id": "056989b1",
   "metadata": {},
   "outputs": [
    {
     "name": "stderr",
     "output_type": "stream",
     "text": [
      "C:\\Users\\saimi\\anaconda3\\Lib\\site-packages\\sklearn\\svm\\_classes.py:32: FutureWarning: The default value of `dual` will change from `True` to `'auto'` in 1.5. Set the value of `dual` explicitly to suppress the warning.\n",
      "  warnings.warn(\n"
     ]
    },
    {
     "data": {
      "text/html": [
       "<style>#sk-container-id-1 {color: black;}#sk-container-id-1 pre{padding: 0;}#sk-container-id-1 div.sk-toggleable {background-color: white;}#sk-container-id-1 label.sk-toggleable__label {cursor: pointer;display: block;width: 100%;margin-bottom: 0;padding: 0.3em;box-sizing: border-box;text-align: center;}#sk-container-id-1 label.sk-toggleable__label-arrow:before {content: \"▸\";float: left;margin-right: 0.25em;color: #696969;}#sk-container-id-1 label.sk-toggleable__label-arrow:hover:before {color: black;}#sk-container-id-1 div.sk-estimator:hover label.sk-toggleable__label-arrow:before {color: black;}#sk-container-id-1 div.sk-toggleable__content {max-height: 0;max-width: 0;overflow: hidden;text-align: left;background-color: #f0f8ff;}#sk-container-id-1 div.sk-toggleable__content pre {margin: 0.2em;color: black;border-radius: 0.25em;background-color: #f0f8ff;}#sk-container-id-1 input.sk-toggleable__control:checked~div.sk-toggleable__content {max-height: 200px;max-width: 100%;overflow: auto;}#sk-container-id-1 input.sk-toggleable__control:checked~label.sk-toggleable__label-arrow:before {content: \"▾\";}#sk-container-id-1 div.sk-estimator input.sk-toggleable__control:checked~label.sk-toggleable__label {background-color: #d4ebff;}#sk-container-id-1 div.sk-label input.sk-toggleable__control:checked~label.sk-toggleable__label {background-color: #d4ebff;}#sk-container-id-1 input.sk-hidden--visually {border: 0;clip: rect(1px 1px 1px 1px);clip: rect(1px, 1px, 1px, 1px);height: 1px;margin: -1px;overflow: hidden;padding: 0;position: absolute;width: 1px;}#sk-container-id-1 div.sk-estimator {font-family: monospace;background-color: #f0f8ff;border: 1px dotted black;border-radius: 0.25em;box-sizing: border-box;margin-bottom: 0.5em;}#sk-container-id-1 div.sk-estimator:hover {background-color: #d4ebff;}#sk-container-id-1 div.sk-parallel-item::after {content: \"\";width: 100%;border-bottom: 1px solid gray;flex-grow: 1;}#sk-container-id-1 div.sk-label:hover label.sk-toggleable__label {background-color: #d4ebff;}#sk-container-id-1 div.sk-serial::before {content: \"\";position: absolute;border-left: 1px solid gray;box-sizing: border-box;top: 0;bottom: 0;left: 50%;z-index: 0;}#sk-container-id-1 div.sk-serial {display: flex;flex-direction: column;align-items: center;background-color: white;padding-right: 0.2em;padding-left: 0.2em;position: relative;}#sk-container-id-1 div.sk-item {position: relative;z-index: 1;}#sk-container-id-1 div.sk-parallel {display: flex;align-items: stretch;justify-content: center;background-color: white;position: relative;}#sk-container-id-1 div.sk-item::before, #sk-container-id-1 div.sk-parallel-item::before {content: \"\";position: absolute;border-left: 1px solid gray;box-sizing: border-box;top: 0;bottom: 0;left: 50%;z-index: -1;}#sk-container-id-1 div.sk-parallel-item {display: flex;flex-direction: column;z-index: 1;position: relative;background-color: white;}#sk-container-id-1 div.sk-parallel-item:first-child::after {align-self: flex-end;width: 50%;}#sk-container-id-1 div.sk-parallel-item:last-child::after {align-self: flex-start;width: 50%;}#sk-container-id-1 div.sk-parallel-item:only-child::after {width: 0;}#sk-container-id-1 div.sk-dashed-wrapped {border: 1px dashed gray;margin: 0 0.4em 0.5em 0.4em;box-sizing: border-box;padding-bottom: 0.4em;background-color: white;}#sk-container-id-1 div.sk-label label {font-family: monospace;font-weight: bold;display: inline-block;line-height: 1.2em;}#sk-container-id-1 div.sk-label-container {text-align: center;}#sk-container-id-1 div.sk-container {/* jupyter's `normalize.less` sets `[hidden] { display: none; }` but bootstrap.min.css set `[hidden] { display: none !important; }` so we also need the `!important` here to be able to override the default hidden behavior on the sphinx rendered scikit-learn.org. See: https://github.com/scikit-learn/scikit-learn/issues/21755 */display: inline-block !important;position: relative;}#sk-container-id-1 div.sk-text-repr-fallback {display: none;}</style><div id=\"sk-container-id-1\" class=\"sk-top-container\"><div class=\"sk-text-repr-fallback\"><pre>LinearSVC(random_state=0, tol=1e-05)</pre><b>In a Jupyter environment, please rerun this cell to show the HTML representation or trust the notebook. <br />On GitHub, the HTML representation is unable to render, please try loading this page with nbviewer.org.</b></div><div class=\"sk-container\" hidden><div class=\"sk-item\"><div class=\"sk-estimator sk-toggleable\"><input class=\"sk-toggleable__control sk-hidden--visually\" id=\"sk-estimator-id-1\" type=\"checkbox\" checked><label for=\"sk-estimator-id-1\" class=\"sk-toggleable__label sk-toggleable__label-arrow\">LinearSVC</label><div class=\"sk-toggleable__content\"><pre>LinearSVC(random_state=0, tol=1e-05)</pre></div></div></div></div></div>"
      ],
      "text/plain": [
       "LinearSVC(random_state=0, tol=1e-05)"
      ]
     },
     "execution_count": 7,
     "metadata": {},
     "output_type": "execute_result"
    }
   ],
   "source": [
    "from sklearn.svm import LinearSVC\n",
    "model1 = LinearSVC(random_state=0, tol=1e-5)\n",
    "model1.fit(X_train_tf,Y_train)"
   ]
  },
  {
   "cell_type": "markdown",
   "id": "fed7a6ac",
   "metadata": {},
   "source": [
    "# Testing the model and Accuracy "
   ]
  },
  {
   "cell_type": "code",
   "execution_count": 8,
   "id": "5ec50c90",
   "metadata": {},
   "outputs": [
    {
     "name": "stdout",
     "output_type": "stream",
     "text": [
      "Accuracy Score -  0.906\n"
     ]
    }
   ],
   "source": [
    "from sklearn.metrics import accuracy_score\n",
    "Y_pred = model1.predict(X_test_tf)\n",
    "print ('Accuracy Score - ', accuracy_score(Y_test,Y_pred))"
   ]
  },
  {
   "cell_type": "markdown",
   "id": "61a80dc9",
   "metadata": {},
   "source": [
    "# Dummy Running"
   ]
  },
  {
   "cell_type": "code",
   "execution_count": 9,
   "id": "469938e8",
   "metadata": {},
   "outputs": [
    {
     "name": "stdout",
     "output_type": "stream",
     "text": [
      "Accuracy Score -  0.5\n"
     ]
    }
   ],
   "source": [
    "from sklearn.dummy import DummyClassifier\n",
    "clf = DummyClassifier(strategy='most_frequent', random_state=42)\n",
    "clf.fit(X_train,Y_train)\n",
    "Y_pred_baseline = clf.predict(X_test)\n",
    "print ('Accuracy Score - ', accuracy_score(Y_test,Y_pred_baseline))"
   ]
  },
  {
   "cell_type": "markdown",
   "id": "5bb63551",
   "metadata": {},
   "source": [
    "# Print Confusion matrix"
   ]
  },
  {
   "cell_type": "code",
   "execution_count": 10,
   "id": "5c99a61b",
   "metadata": {},
   "outputs": [
    {
     "data": {
      "text/plain": [
       "array([[4491,  509],\n",
       "       [ 431, 4569]], dtype=int64)"
      ]
     },
     "execution_count": 10,
     "metadata": {},
     "output_type": "execute_result"
    }
   ],
   "source": [
    "from sklearn.metrics import confusion_matrix\n",
    "Y_pred = model1.predict(X_test_tf)\n",
    "confusion_matrix(Y_test,Y_pred)"
   ]
  },
  {
   "cell_type": "markdown",
   "id": "0d8486a9",
   "metadata": {},
   "source": [
    "# Install SKlearn"
   ]
  },
  {
   "cell_type": "code",
   "execution_count": 11,
   "id": "ae28758c",
   "metadata": {},
   "outputs": [
    {
     "name": "stdout",
     "output_type": "stream",
     "text": [
      "Requirement already satisfied: scikit-learn in c:\\users\\saimi\\anaconda3\\lib\\site-packages (1.3.2)\n",
      "Requirement already satisfied: numpy<2.0,>=1.17.3 in c:\\users\\saimi\\anaconda3\\lib\\site-packages (from scikit-learn) (1.24.3)\n",
      "Requirement already satisfied: scipy>=1.5.0 in c:\\users\\saimi\\anaconda3\\lib\\site-packages (from scikit-learn) (1.10.1)\n",
      "Requirement already satisfied: joblib>=1.1.1 in c:\\users\\saimi\\anaconda3\\lib\\site-packages (from scikit-learn) (1.2.0)\n",
      "Requirement already satisfied: threadpoolctl>=2.0.0 in c:\\users\\saimi\\anaconda3\\lib\\site-packages (from scikit-learn) (2.2.0)\n",
      "Note: you may need to restart the kernel to use updated packages.\n"
     ]
    }
   ],
   "source": [
    "pip install  scikit-learn"
   ]
  },
  {
   "cell_type": "markdown",
   "id": "786bfab7",
   "metadata": {},
   "source": [
    "# Confusion matrix Visualisation"
   ]
  },
  {
   "cell_type": "code",
   "execution_count": 12,
   "id": "a8ba6e04",
   "metadata": {},
   "outputs": [
    {
     "data": {
      "image/png": "[encoded data removed]",
      "text/plain": [
       "<Figure size 640x480 with 2 Axes>"
      ]
     },
     "metadata": {},
     "output_type": "display_data"
    }
   ],
   "source": [
    "from sklearn.metrics import ConfusionMatrixDisplay\n",
    "import matplotlib.pyplot as plt\n",
    "\n",
    "# Assuming you have a trained model named 'model1' and test data 'X_test_tf' and 'Y_test'\n",
    "ConfusionMatrixDisplay.from_estimator(model1, X_test_tf, Y_test, values_format='d', cmap=plt.cm.Blues)\n",
    "plt.show()\n"
   ]
  },
  {
   "cell_type": "markdown",
   "id": "e992d936",
   "metadata": {},
   "source": [
    "# Classification Report"
   ]
  },
  {
   "cell_type": "code",
   "execution_count": 13,
   "id": "62c3ede2",
   "metadata": {},
   "outputs": [
    {
     "name": "stdout",
     "output_type": "stream",
     "text": [
      "              precision    recall  f1-score   support\n",
      "\n",
      "    negative       0.91      0.90      0.91      5000\n",
      "    positive       0.90      0.91      0.91      5000\n",
      "\n",
      "    accuracy                           0.91     10000\n",
      "   macro avg       0.91      0.91      0.91     10000\n",
      "weighted avg       0.91      0.91      0.91     10000\n",
      "\n"
     ]
    }
   ],
   "source": [
    "from sklearn.metrics import classification_report\n",
    "print(classification_report(Y_test,Y_pred))"
   ]
  },
  {
   "cell_type": "code",
   "execution_count": 14,
   "id": "1792d32b",
   "metadata": {},
   "outputs": [
    {
     "name": "stdout",
     "output_type": "stream",
     "text": [
      "sentiment\n",
      "negative    25000\n",
      "positive     4000\n",
      "Name: count, dtype: int64\n"
     ]
    }
   ],
   "source": [
    "# Downsample the 'positive' sentiment\n",
    "df_samplePositive = df[df['sentiment'] == 'positive'].sample(n=4000, random_state=123)\n",
    "\n",
    "# Create a separate dataframe containing all other sentiments\n",
    "df_sampleRest = df[df['sentiment'] != 'positive']\n",
    "\n",
    "# Concatenate the two dataframes to create the new balanced dataset\n",
    "df_balanced = pd.concat([df_sampleRest, df_samplePositive])\n",
    "\n",
    "# Check the status of the class distribution\n",
    "print(df_balanced['sentiment'].value_counts())"
   ]
  },
  {
   "cell_type": "code",
   "execution_count": 15,
   "id": "3636be55",
   "metadata": {},
   "outputs": [
    {
     "name": "stdout",
     "output_type": "stream",
     "text": [
      "Size of Training Data  40000\n",
      "Size of Test Data  10000\n"
     ]
    },
    {
     "name": "stderr",
     "output_type": "stream",
     "text": [
      "C:\\Users\\saimi\\anaconda3\\Lib\\site-packages\\sklearn\\svm\\_classes.py:32: FutureWarning: The default value of `dual` will change from `True` to `'auto'` in 1.5. Set the value of `dual` explicitly to suppress the warning.\n",
      "  warnings.warn(\n"
     ]
    },
    {
     "name": "stdout",
     "output_type": "stream",
     "text": [
      "Accuracy Score -  0.906\n",
      "              precision    recall  f1-score   support\n",
      "\n",
      "    negative       0.91      0.90      0.91      5000\n",
      "    positive       0.90      0.91      0.91      5000\n",
      "\n",
      "    accuracy                           0.91     10000\n",
      "   macro avg       0.91      0.91      0.91     10000\n",
      "weighted avg       0.91      0.91      0.91     10000\n",
      "\n"
     ]
    }
   ],
   "source": [
    "df_balanced['cleaned_text'] = df_balanced['review'].apply(clean)\n",
    "\n",
    "from sklearn.model_selection import train_test_split\n",
    "\n",
    "# Assuming you've added a 'sentiment' column after processing for sentiment analysis\n",
    "X_train, X_test, Y_train, Y_test = train_test_split(df['cleaned_text'], df['sentiment'], test_size=0.2, random_state=42, stratify=df['sentiment'])\n",
    "\n",
    "print('Size of Training Data ', X_train.shape[0])\n",
    "print('Size of Test Data ', X_test.shape[0])\n",
    "# Convert X Train to numbers\n",
    "from sklearn.feature_extraction.text import TfidfVectorizer\n",
    "from sklearn.svm import SVC\n",
    "tfidf = TfidfVectorizer(min_df = 10, ngram_range=(1,2),stop_words=\"english\")\n",
    "X_train_tf = tfidf.fit_transform(X_train)\n",
    "X_test_tf = tfidf.transform(X_test)\n",
    "from sklearn.svm import LinearSVC\n",
    "model1 = LinearSVC(random_state=0, tol=1e-5)\n",
    "model1.fit(X_train_tf,Y_train)\n",
    "from sklearn.metrics import accuracy_score\n",
    "Y_pred = model1.predict(X_test_tf)\n",
    "print ('Accuracy Score - ', accuracy_score(Y_test,Y_pred))\n",
    "from sklearn.metrics import confusion_matrix\n",
    "Y_pred = model1.predict(X_test_tf)\n",
    "print(classification_report(Y_test,Y_pred))"
   ]
  },
  {
   "cell_type": "code",
   "execution_count": 16,
   "id": "89c85cce",
   "metadata": {},
   "outputs": [
    {
     "name": "stdout",
     "output_type": "stream",
     "text": [
      "Size of Training Data  7999\n",
      "Size of Test Data  2000\n"
     ]
    },
    {
     "name": "stderr",
     "output_type": "stream",
     "text": [
      "C:\\Users\\saimi\\AppData\\Local\\Temp\\ipykernel_25860\\2433367593.py:21: DeprecationWarning: DataFrameGroupBy.apply operated on the grouping columns. This behavior is deprecated, and in a future version of pandas the grouping columns will be excluded from the operation. Either pass `include_groups=False` to exclude the groupings or explicitly select the grouping columns after groupby to silence this warning.\n",
      "  df = df.groupby('sentiment', as_index=False).apply(pd.DataFrame.sample, random_state=42, frac=.2).reset_index(drop=True)\n"
     ]
    }
   ],
   "source": [
    "from sklearn.pipeline import Pipeline\n",
    "from sklearn.model_selection import GridSearchCV, train_test_split\n",
    "from sklearn.svm import LinearSVC\n",
    "\n",
    "# Assuming 'clean' is a predefined function for text cleaning\n",
    "# If not, you need to define this or ensure 'cleaned_text' is already processed\n",
    "\n",
    "# Flag that determines the choice of SVC (True) and LinearSVC (False)\n",
    "runSVC = True\n",
    "\n",
    "# Sample data loading step (replace this with your actual DataFrame)\n",
    "# df = your_dataframe\n",
    "\n",
    "# Assume df is already loaded and has columns 'review', 'sentiment', and 'cleaned_text'\n",
    "df = df.dropna(subset=['cleaned_text', 'sentiment'])  # Drop rows where these important columns are NA\n",
    "df = df[df['cleaned_text'].str.len() > 50]  # Filter rows where 'cleaned_text' is longer than 50 characters\n",
    "\n",
    "if runSVC:\n",
    "    # Sample the data when running SVC to ensure reasonable run-times\n",
    "    # This is done per 'sentiment' group to maintain the distribution of sentiments\n",
    "    df = df.groupby('sentiment', as_index=False).apply(pd.DataFrame.sample, random_state=42, frac=.2).reset_index(drop=True)\n",
    "\n",
    "# Train-Test Split\n",
    "# Here, 'cleaned_text' is used as the input feature and 'sentiment' as the label\n",
    "X_train, X_test, Y_train, Y_test = train_test_split(\n",
    "    df['cleaned_text'],\n",
    "    df['sentiment'],\n",
    "    test_size=0.2,\n",
    "    random_state=42,\n",
    "    stratify=df['sentiment']  # This ensures the train-test split has a similar distribution of sentiments\n",
    ")\n",
    "\n",
    "print('Size of Training Data ', X_train.shape[0])\n",
    "print('Size of Test Data ', X_test.shape[0])\n"
   ]
  },
  {
   "cell_type": "code",
   "execution_count": 17,
   "id": "290a8ab2",
   "metadata": {},
   "outputs": [
    {
     "name": "stdout",
     "output_type": "stream",
     "text": [
      "Best parameters identified by grid search: {'model__C': 1, 'model__kernel': 'linear', 'tfidf__min_df': 5, 'tfidf__ngram_range': (1, 6)}\n",
      "Best result identified by grid search: 0.8698593652282677\n"
     ]
    }
   ],
   "source": [
    "from sklearn.feature_extraction.text import TfidfVectorizer\n",
    "from sklearn.svm import SVC, LinearSVC\n",
    "from sklearn.pipeline import Pipeline\n",
    "from sklearn.model_selection import GridSearchCV\n",
    "\n",
    "# Assuming runSVC flag is defined as before\n",
    "runSVC = True  # or False, depending on whether you want to run SVC or LinearSVC\n",
    "\n",
    "# Define the TF-IDF vectorizer\n",
    "tfidf = TfidfVectorizer(stop_words=\"english\")\n",
    "\n",
    "# Choose the model and define the grid search parameters\n",
    "if runSVC:\n",
    "    model = SVC(random_state=42, probability=True)\n",
    "    grid_param = [{\n",
    "        'tfidf__min_df': [5, 10],\n",
    "        'tfidf__ngram_range': [(1, 3), (1, 6)],\n",
    "        'model__C': [1, 100],\n",
    "        'model__kernel': ['linear']\n",
    "    }]\n",
    "else:\n",
    "    model = LinearSVC(random_state=42, tol=1e-5)\n",
    "    grid_param = [{\n",
    "        'tfidf__min_df': [5, 10],\n",
    "        'tfidf__ngram_range': [(1, 3), (1, 6)],\n",
    "        'model__C': [1, 100],\n",
    "        'model__loss': ['hinge']\n",
    "    }]\n",
    "\n",
    "# Set up the training pipeline\n",
    "training_pipeline = Pipeline([\n",
    "    ('tfidf', tfidf),\n",
    "    ('model', model)\n",
    "])\n",
    "\n",
    "# Configure the grid search\n",
    "gridSearchProcessor = GridSearchCV(\n",
    "    estimator=training_pipeline,\n",
    "    param_grid=grid_param,\n",
    "    cv=5\n",
    ")\n",
    "\n",
    "# Fit the model\n",
    "gridSearchProcessor.fit(X_train, Y_train)\n",
    "\n",
    "# Retrieve the best parameters and results\n",
    "best_params = gridSearchProcessor.best_params_\n",
    "print(\"Best parameters identified by grid search:\", best_params)\n",
    "\n",
    "best_result = gridSearchProcessor.best_score_\n",
    "print(\"Best result identified by grid search:\", best_result)\n",
    "\n",
    "# Get the best model\n",
    "best_model = gridSearchProcessor.best_estimator_\n"
   ]
  },
  {
   "cell_type": "code",
   "execution_count": 18,
   "id": "8e1f7ee3",
   "metadata": {},
   "outputs": [
    {
     "name": "stdout",
     "output_type": "stream",
     "text": [
      "Accuracy Score -  0.871\n",
      "              precision    recall  f1-score   support\n",
      "\n",
      "    negative       0.87      0.87      0.87      1000\n",
      "    positive       0.87      0.88      0.87      1000\n",
      "\n",
      "    accuracy                           0.87      2000\n",
      "   macro avg       0.87      0.87      0.87      2000\n",
      "weighted avg       0.87      0.87      0.87      2000\n",
      "\n"
     ]
    }
   ],
   "source": [
    "# Step 4 - Model Evaluation\n",
    "\n",
    "Y_pred = best_model.predict(X_test)\n",
    "print('Accuracy Score - ', accuracy_score(Y_test, Y_pred))\n",
    "print(classification_report(Y_test, Y_pred))\n"
   ]
  }
 ],
 "metadata": {
  "kernelspec": {
   "display_name": "Python 3 (ipykernel)",
   "language": "python",
   "name": "python3"
  },
  "language_info": {
   "codemirror_mode": {
    "name": "ipython",
    "version": 3
   },
   "file_extension": ".py",
   "mimetype": "text/x-python",
   "name": "python",
   "nbconvert_exporter": "python",
   "pygments_lexer": "ipython3",
   "version": "3.11.4"
  }
 },
 "nbformat": 4,
 "nbformat_minor": 5
}
