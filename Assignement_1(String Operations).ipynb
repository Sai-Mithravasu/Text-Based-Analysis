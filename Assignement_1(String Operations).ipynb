{
 "cells": [
  {
   "cell_type": "markdown",
   "id": "17a6ac83-6139-4b60-b33e-12150e5ade7d",
   "metadata": {},
   "source": [
    "# Advanced String Operations Using Python"
   ]
  },
  {
   "cell_type": "markdown",
   "id": "874f5eb7",
   "metadata": {},
   "source": [
    "## Initialising a string 'a'"
   ]
  },
  {
   "cell_type": "code",
   "execution_count": 2,
   "id": "be50699b-8069-42db-91ef-e24d495ae52d",
   "metadata": {},
   "outputs": [],
   "source": [
    "a = \"Sai Mithravasu\" "
   ]
  },
  {
   "cell_type": "markdown",
   "id": "c25498ea",
   "metadata": {},
   "source": [
    "## printing a String"
   ]
  },
  {
   "cell_type": "code",
   "execution_count": 3,
   "id": "7df02f49-f8bb-47dd-9129-33be48657269",
   "metadata": {},
   "outputs": [
    {
     "name": "stdout",
     "output_type": "stream",
     "text": [
      "Sai Mithravasu\n"
     ]
    }
   ],
   "source": [
    "print(a)"
   ]
  },
  {
   "cell_type": "markdown",
   "id": "ebfd6686",
   "metadata": {},
   "source": [
    "## Aligning a string"
   ]
  },
  {
   "cell_type": "code",
   "execution_count": 4,
   "id": "99027f75-8f01-4cf3-9b5c-19c27fa5dcbc",
   "metadata": {},
   "outputs": [
    {
     "name": "stdout",
     "output_type": "stream",
     "text": [
      "                                                               Sai Mithravasu                                                               \n"
     ]
    }
   ],
   "source": [
    "# Align the string centre\n",
    "b= a.center(140)\n",
    "print(b)"
   ]
  },
  {
   "cell_type": "markdown",
   "id": "febe6129",
   "metadata": {},
   "source": [
    "## Case Swapping of a String"
   ]
  },
  {
   "cell_type": "code",
   "execution_count": 5,
   "id": "48beaf80-5a0c-46f1-b6a8-b6767b46b2df",
   "metadata": {},
   "outputs": [
    {
     "name": "stdout",
     "output_type": "stream",
     "text": [
      "sAI mITHRAVASU\n"
     ]
    }
   ],
   "source": [
    "# Case Swap\n",
    "c= a.swapcase()\n",
    "print(c)"
   ]
  },
  {
   "cell_type": "markdown",
   "id": "6159093f",
   "metadata": {},
   "source": [
    "## Cheking for Title Rules"
   ]
  },
  {
   "cell_type": "code",
   "execution_count": 24,
   "id": "5b5c7bcc-e6c8-465b-ac63-a63d322fd6bf",
   "metadata": {},
   "outputs": [
    {
     "name": "stdout",
     "output_type": "stream",
     "text": [
      "True\n"
     ]
    }
   ],
   "source": [
    "d= a.istitle()\n",
    "print(d)"
   ]
  },
  {
   "cell_type": "markdown",
   "id": "3fdbbb63",
   "metadata": {},
   "source": [
    "## Joining Multiple Strings"
   ]
  },
  {
   "cell_type": "code",
   "execution_count": 6,
   "id": "b8fdc376-e8ea-4e2e-847f-631c8b6a16a0",
   "metadata": {},
   "outputs": [
    {
     "name": "stdout",
     "output_type": "stream",
     "text": [
      "My Name is Sai Mithravasu\n"
     ]
    }
   ],
   "source": [
    "MyName = (\"My\", \"Name\", \"is\", \"Sai Mithravasu\")\n",
    "\n",
    "x = \" \".join(MyName)\n",
    "\n",
    "print(x)"
   ]
  },
  {
   "cell_type": "markdown",
   "id": "efb5b583",
   "metadata": {},
   "source": [
    "## Spliting a String after a space"
   ]
  },
  {
   "cell_type": "code",
   "execution_count": 38,
   "id": "06ab70bd-e82a-422c-aa3e-723ddd3954fd",
   "metadata": {},
   "outputs": [
    {
     "name": "stdout",
     "output_type": "stream",
     "text": [
      "['Hey', 'you', 'there', 'I', 'am', '', 'demonstrating', 'how', 'to', 'use', 'string', 'operations']\n"
     ]
    }
   ],
   "source": [
    "MyString = (\"Hey you there I am  demonstrating how to use string operations\")\n",
    "MyString1 = MyString.rsplit(\" \")\n",
    "print(MyString1)"
   ]
  },
  {
   "cell_type": "markdown",
   "id": "b005a791",
   "metadata": {},
   "source": [
    "## Spliting a String after a Word"
   ]
  },
  {
   "cell_type": "code",
   "execution_count": 10,
   "id": "3408bcc3-50a2-407c-9629-1afb2952521c",
   "metadata": {},
   "outputs": [
    {
     "name": "stdout",
     "output_type": "stream",
     "text": [
      "('Hey you there I am ', ' demonstrating ', 'how to use string operations')\n"
     ]
    }
   ],
   "source": [
    "MyString = (\"Hey you there I am  demonstrating how to use string operations\")\n",
    "MyString2 = MyString.partition(\" demonstrating \")\n",
    "print(MyString2)"
   ]
  },
  {
   "cell_type": "markdown",
   "id": "48024dc4",
   "metadata": {},
   "source": [
    "## Spliting String after a new line"
   ]
  },
  {
   "cell_type": "code",
   "execution_count": 11,
   "id": "671bc7ed-9dc7-4330-81aa-414f51151812",
   "metadata": {},
   "outputs": [
    {
     "name": "stdout",
     "output_type": "stream",
     "text": [
      "['Lets explore more ', ' on the string operations ', ' using python']\n"
     ]
    }
   ],
   "source": [
    "string = \"Lets explore more \\n on the string operations \\n using python\"\n",
    "\n",
    "string = string.splitlines()\n",
    "print(string)"
   ]
  },
  {
   "cell_type": "markdown",
   "id": "d9387748",
   "metadata": {},
   "source": [
    "## Finding the Index of a String"
   ]
  },
  {
   "cell_type": "code",
   "execution_count": 12,
   "id": "9ce86bff-96b9-4f63-b439-9d96347cf77b",
   "metadata": {},
   "outputs": [
    {
     "name": "stdout",
     "output_type": "stream",
     "text": [
      "45\n"
     ]
    }
   ],
   "source": [
    "Index_String = MyString.rindex(\"string\")\n",
    "print(Index_String)"
   ]
  },
  {
   "cell_type": "markdown",
   "id": "4db1c8a4",
   "metadata": {},
   "source": [
    "## using regex "
   ]
  },
  {
   "cell_type": "code",
   "execution_count": 14,
   "id": "97a4c1e8",
   "metadata": {},
   "outputs": [
    {
     "name": "stdout",
     "output_type": "stream",
     "text": [
      "['contact@example.com', 'support@example.org']\n"
     ]
    }
   ],
   "source": [
    "import re\n",
    "\n",
    "text = \"Please contact us at contact@example.com or support@example.org.\"\n",
    "emails = re.findall(r'[a-zA-Z0-9._%+-]+@[a-zA-Z0-9.-]+\\.[a-zA-Z]{2,4}', text)\n",
    "print(emails)\n"
   ]
  },
  {
   "cell_type": "markdown",
   "id": "7453f585",
   "metadata": {},
   "source": [
    "## Unicode handling"
   ]
  },
  {
   "cell_type": "code",
   "execution_count": 16,
   "id": "82f235af",
   "metadata": {},
   "outputs": [
    {
     "name": "stdout",
     "output_type": "stream",
     "text": [
      "こんにちは世界\n",
      "b'\\xe3\\x81\\x93\\xe3\\x82\\x93\\xe3\\x81\\xab\\xe3\\x81\\xa1\\xe3\\x81\\xaf\\xe4\\xb8\\x96\\xe7\\x95\\x8c'\n",
      "こんにちは世界\n"
     ]
    }
   ],
   "source": [
    "# Using Unicode characters in strings\n",
    "text = \"こんにちは世界\"  # Hello World in Japanese\n",
    "print(text)\n",
    "\n",
    "# Converting Unicode to a specific encoding\n",
    "encoded_text = text.encode('utf-8')\n",
    "print(encoded_text)\n",
    "\n",
    "# Decoding back to Unicode\n",
    "decoded_text = encoded_text.decode('utf-8')\n",
    "print(decoded_text)\n"
   ]
  },
  {
   "cell_type": "markdown",
   "id": "6bdbddc9",
   "metadata": {},
   "source": [
    "## String Normalisation"
   ]
  },
  {
   "cell_type": "code",
   "execution_count": 17,
   "id": "39ac1a5b",
   "metadata": {},
   "outputs": [
    {
     "name": "stdout",
     "output_type": "stream",
     "text": [
      "False\n",
      "True\n"
     ]
    }
   ],
   "source": [
    "import unicodedata\n",
    "\n",
    "s1 = 'café'  # Composed \"e\" with acute accent\n",
    "s2 = 'cafe\\u0301'  # Decomposed \"e\" and acute accent\n",
    "\n",
    "# Check if strings are equal\n",
    "print(s1 == s2)  # Returns False\n",
    "\n",
    "# Normalize strings\n",
    "s1_n = unicodedata.normalize('NFC', s1)\n",
    "s2_n = unicodedata.normalize('NFC', s2)\n",
    "\n",
    "print(s1_n == s2_n)  # Returns True\n"
   ]
  },
  {
   "cell_type": "markdown",
   "id": "5fa220da",
   "metadata": {},
   "source": [
    "## String Interpolation"
   ]
  },
  {
   "cell_type": "code",
   "execution_count": 20,
   "id": "e10786ca",
   "metadata": {},
   "outputs": [
    {
     "name": "stdout",
     "output_type": "stream",
     "text": [
      "Hello, Sai Mithravasu. You are 23 years old.\n",
      "Hello, Sai Mithravasu. You are 23 years old.\n"
     ]
    }
   ],
   "source": [
    "name = \"Sai Mithravasu\"\n",
    "age = 23\n",
    "\n",
    "# Using f-strings (Python 3.6+)\n",
    "greeting = f\"Hello, {name}. You are {age} years old.\"\n",
    "print(greeting)\n",
    "\n",
    "# Using str.format()\n",
    "greeting = \"Hello, {}. You are {} years old.\".format(name, age)\n",
    "print(greeting)\n"
   ]
  },
  {
   "cell_type": "markdown",
   "id": "899df16e",
   "metadata": {},
   "source": [
    "## Text Wrapping anf Filling "
   ]
  },
  {
   "cell_type": "code",
   "execution_count": 22,
   "id": "99e46988",
   "metadata": {},
   "outputs": [
    {
     "name": "stdout",
     "output_type": "stream",
     "text": [
      "This is a long text that will be split into\n",
      "multiple lines with a certain width.\n"
     ]
    }
   ],
   "source": [
    "import textwrap\n",
    "\n",
    "text = \"This is a long text that will be split into multiple lines with a certain width.\"\n",
    "wrapped_text = textwrap.fill(text, width=50)\n",
    "print(wrapped_text)\n"
   ]
  },
  {
   "cell_type": "markdown",
   "id": "ebd3cb7b",
   "metadata": {},
   "source": [
    "## Translation Table"
   ]
  },
  {
   "cell_type": "code",
   "execution_count": 23,
   "id": "0c638365",
   "metadata": {},
   "outputs": [
    {
     "name": "stdout",
     "output_type": "stream",
     "text": [
      "Th3s 3s 1n 2x1mpl2.\n"
     ]
    }
   ],
   "source": [
    "# Creating a translation table\n",
    "trans_table = str.maketrans('aeiou', '12345')\n",
    "text = \"This is an example.\"\n",
    "translated_text = text.translate(trans_table)\n",
    "print(translated_text)\n"
   ]
  }
 ],
 "metadata": {
  "kernelspec": {
   "display_name": "Python 3 (ipykernel)",
   "language": "python",
   "name": "python3"
  },
  "language_info": {
   "codemirror_mode": {
    "name": "ipython",
    "version": 3
   },
   "file_extension": ".py",
   "mimetype": "text/x-python",
   "name": "python",
   "nbconvert_exporter": "python",
   "pygments_lexer": "ipython3",
   "version": "3.11.4"
  }
 },
 "nbformat": 4,
 "nbformat_minor": 5
}
